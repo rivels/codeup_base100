{
 "cells": [
  {
   "cell_type": "code",
   "execution_count": null,
   "metadata": {},
   "outputs": [],
   "source": [
    "a=int(input())\n",
    "A=hex(a)\n",
    "A=str(A).upper()\n",
    "A=format(a,'x')\n",
    "print(A.upper())"
   ]
  },
  {
   "cell_type": "code",
   "execution_count": null,
   "metadata": {},
   "outputs": [],
   "source": [
    "a=input()\n",
    "A=int(a,8)\n",
    "print(A)"
   ]
  },
  {
   "cell_type": "code",
   "execution_count": null,
   "metadata": {},
   "outputs": [],
   "source": [
    "'''\n",
    "2,8,16 진수 표현하기\n",
    "0b12 = 10진수 12 를 2진수로 표현함\n",
    "0o12 = 10진수 12 를 8진수로 표현함\n",
    "0x12 = 10진수 12 를 16진수로 표현함\n",
    "\n",
    "a=100\n",
    "\n",
    "int(a,8)  =  a라는 변수 안에 있는 8진수를 10진수로 표현\n",
    "int(a,2)  =  a라는 변수 안에 있는 2진수를 10진수로 표현\n",
    "int(a,16) =  a라는 변수 안에 있는 16진수를 10진수로 표현\n",
    "\n",
    "str으로 인식되어 str을 다시 int로 변환해주는 듯\n",
    "'''"
   ]
  },
  {
   "cell_type": "code",
   "execution_count": null,
   "metadata": {},
   "outputs": [],
   "source": [
    "c=input()\n",
    "C=int(c,16)\n",
    "print(oct(C))\n",
    "C=str(C)\n",
    "str(C).replace('0o','')\n",
    "h=format(c,#8)"
   ]
  },
  {
   "cell_type": "code",
   "execution_count": null,
   "metadata": {},
   "outputs": [],
   "source": [
    "h=format(c,'8')\n",
    "h"
   ]
  },
  {
   "cell_type": "code",
   "execution_count": null,
   "metadata": {},
   "outputs": [],
   "source": [
    "k=60\n",
    "\n",
    "a=format(k,'b')\n",
    "b=format(k,'o')\n",
    "c=format(k,'x')\n",
    "print(a,b,c)"
   ]
  },
  {
   "cell_type": "code",
   "execution_count": null,
   "metadata": {},
   "outputs": [],
   "source": [
    "a=input()\n",
    "\n",
    "A=int(a,16)\n",
    "print(format(A,'o'))"
   ]
  },
  {
   "cell_type": "code",
   "execution_count": null,
   "metadata": {},
   "outputs": [],
   "source": [
    "b=input()\n",
    "print(ord(b))\n"
   ]
  },
  {
   "cell_type": "code",
   "execution_count": null,
   "metadata": {},
   "outputs": [],
   "source": [
    "print(chr(65))"
   ]
  },
  {
   "cell_type": "code",
   "execution_count": null,
   "metadata": {},
   "outputs": [],
   "source": [
    "a,b=map(long,input().split(' '))\n",
    "print(a+b)\n",
    "#python3 의 int 는 오버플로가 없다"
   ]
  },
  {
   "cell_type": "code",
   "execution_count": null,
   "metadata": {},
   "outputs": [],
   "source": [
    "d=int(input())\n",
    "if d>0:\n",
    "    d=-d\n",
    "    print(d)\n",
    "else:\n",
    "    print(abs(d))"
   ]
  },
  {
   "cell_type": "code",
   "execution_count": null,
   "metadata": {},
   "outputs": [],
   "source": [
    "e=input()\n",
    "E=ord(e)+1\n",
    "type(E)\n",
    "print(chr(E))"
   ]
  },
  {
   "cell_type": "code",
   "execution_count": null,
   "metadata": {},
   "outputs": [],
   "source": [
    "print(chr(E))"
   ]
  },
  {
   "cell_type": "code",
   "execution_count": null,
   "metadata": {
    "scrolled": true
   },
   "outputs": [],
   "source": [
    "a,b=map(int,input().split(' '))\n",
    "p=a/b\n",
    "print('''{}\n",
    "{}\n",
    "{}\n",
    "{}\n",
    "{}'''.format(a+b,a-b,a*b,a//b,a%b))\n",
    "print('%.2f' %p)"
   ]
  },
  {
   "cell_type": "code",
   "execution_count": null,
   "metadata": {},
   "outputs": [],
   "source": [
    "p=a/b\n",
    "print('%.2f' %p)"
   ]
  },
  {
   "cell_type": "code",
   "execution_count": null,
   "metadata": {},
   "outputs": [],
   "source": [
    "a,b,c=map(int,input().split())\n",
    "S=a+b+c\n",
    "A=round(S/3,1)\n",
    "print('''{}\n",
    "{}'''.format(S,A))"
   ]
  },
  {
   "cell_type": "code",
   "execution_count": null,
   "metadata": {},
   "outputs": [],
   "source": [
    "a=int(input())\n",
    "print('{}'.format(a<<1))"
   ]
  },
  {
   "cell_type": "code",
   "execution_count": null,
   "metadata": {},
   "outputs": [],
   "source": [
    "a,b=map(int,input().split())\n",
    "print(a*(2**b))"
   ]
  },
  {
   "cell_type": "code",
   "execution_count": null,
   "metadata": {},
   "outputs": [],
   "source": [
    "q,w=map(int,input().split())\n",
    "if q<=w:\n",
    "    print('1')\n",
    "else:\n",
    "    print('0')"
   ]
  },
  {
   "cell_type": "code",
   "execution_count": null,
   "metadata": {},
   "outputs": [],
   "source": [
    "a,b=map(int,input().split())\n",
    "c=a^~b\n",
    "print(~c)\n",
    "'''\n",
    "\n",
    "& = and 연산\n",
    "| = or 연산\n",
    "xor = ^ 연산\n",
    "\n",
    "a&=b #a와 b를 &한 값을 a에 저장\n",
    "'''"
   ]
  },
  {
   "cell_type": "code",
   "execution_count": null,
   "metadata": {},
   "outputs": [],
   "source": [
    "a=12\n",
    "print(~a)"
   ]
  },
  {
   "cell_type": "code",
   "execution_count": null,
   "metadata": {},
   "outputs": [],
   "source": [
    "a,b=map(int,input().split())\n",
    "if a==b==0:\n",
    "    print(1)\n",
    "else:\n",
    "    print(0)"
   ]
  },
  {
   "cell_type": "code",
   "execution_count": null,
   "metadata": {},
   "outputs": [],
   "source": [
    "a=int(input())\n",
    "print(~a)\n",
    "'''\n",
    "위와 같이 ~ 연산을 걸게되면 2진수의 2의보수로 연산이 진행됨.\n",
    "신기방기\n",
    "\n",
    "기본적으로 &, |, ^ 연산은 2진수로 변환 후 각 자릿수에 대한 or, and, xor\n",
    "연산을 해서 다시 10진수로 변환할 수 있음 아주 쉽게.\n",
    "\n",
    "ex) \n",
    "138&255는 각 두 수를 2진수로 변환하여 비트 단위로 나열하여 각 자릿수들을 \n",
    "해당 연산을 한 후 결과 값을 10진수로 다시 변환하여 표현됨.\n",
    "'''"
   ]
  },
  {
   "cell_type": "code",
   "execution_count": null,
   "metadata": {},
   "outputs": [],
   "source": [
    "a,b=map(int,input().split())\n",
    "print(a|b)"
   ]
  },
  {
   "cell_type": "code",
   "execution_count": null,
   "metadata": {},
   "outputs": [],
   "source": [
    "a,b=map(int,input().split())\n",
    "print(a&b)"
   ]
  },
  {
   "cell_type": "code",
   "execution_count": null,
   "metadata": {},
   "outputs": [],
   "source": [
    "a,b=map(int,input().split())\n",
    "print(a^b)"
   ]
  },
  {
   "cell_type": "code",
   "execution_count": null,
   "metadata": {},
   "outputs": [],
   "source": [
    "print(\"cham!\"if True else \"gur zit!\")"
   ]
  },
  {
   "cell_type": "code",
   "execution_count": null,
   "metadata": {},
   "outputs": [],
   "source": [
    "'''\n",
    "3항 연산자\n",
    "value1 if 조건 else value2\n",
    "'''"
   ]
  },
  {
   "cell_type": "code",
   "execution_count": null,
   "metadata": {},
   "outputs": [],
   "source": [
    "a,b=map(int,input().split())\n",
    "print(a) if a>b else print(b)\n",
    "\n"
   ]
  },
  {
   "cell_type": "code",
   "execution_count": null,
   "metadata": {},
   "outputs": [],
   "source": [
    "a,b,c=map(int,input().split())\n",
    "m=0\n",
    "print(a) if (a<b and a<c) else b\n",
    "print(b) if (b<a and b<c) else c\n",
    "print(c) if (c<a and c<b) else None\n",
    "\n",
    "print(a) if (a==b==c) else None"
   ]
  },
  {
   "cell_type": "code",
   "execution_count": null,
   "metadata": {},
   "outputs": [],
   "source": [
    "a=list(input().split())\n",
    "for i in a:\n",
    "    if int(i)%2==0:\n",
    "        print(i)\n",
    "    else:\n",
    "        None"
   ]
  },
  {
   "cell_type": "code",
   "execution_count": null,
   "metadata": {},
   "outputs": [],
   "source": [
    "a=list(input().split())\n",
    "for i in a:\n",
    "    if int(i)%2==0:\n",
    "        print('even')\n",
    "    else:\n",
    "        print('odd')"
   ]
  },
  {
   "cell_type": "code",
   "execution_count": null,
   "metadata": {},
   "outputs": [],
   "source": [
    "a=int(input())\n",
    "if a<0:\n",
    "    print('minus')\n",
    "else:\n",
    "    print('plus')\n",
    "\n",
    "if a%2==0:\n",
    "    print('even')\n",
    "else:\n",
    "    print('odd')"
   ]
  },
  {
   "cell_type": "code",
   "execution_count": null,
   "metadata": {},
   "outputs": [],
   "source": [
    "a=int(input())\n",
    "if a>89:\n",
    "    print('A')\n",
    "elif 89>=a>69:\n",
    "    print('B')\n",
    "elif 69>=a>39:\n",
    "    print('C')\n",
    "else:\n",
    "    print('D')"
   ]
  },
  {
   "cell_type": "code",
   "execution_count": null,
   "metadata": {},
   "outputs": [],
   "source": [
    "a=input()\n",
    "if a=='A':\n",
    "    print('best!!!')\n",
    "elif a=='B':\n",
    "    print('good!!')\n",
    "elif a=='C':\n",
    "    print('run!')\n",
    "elif a=='D':\n",
    "    print('slowly~')\n",
    "else:\n",
    "    print('what?')"
   ]
  },
  {
   "cell_type": "code",
   "execution_count": null,
   "metadata": {},
   "outputs": [],
   "source": [
    "a=int(input())\n",
    "if a==12 or a==1 or a==2:\n",
    "    print('winter')\n",
    "elif 3<=a<=5:\n",
    "    print('spring')\n",
    "elif 6<=a<=8:\n",
    "    print('summer')\n",
    "elif 9<=a<=11:\n",
    "    print('fall')"
   ]
  },
  {
   "cell_type": "code",
   "execution_count": null,
   "metadata": {},
   "outputs": [],
   "source": [
    "a=list(input().split())\n",
    "for i in a:\n",
    "    if int(i) ==0:\n",
    "        break\n",
    "    else:\n",
    "        print('i\\n')\n",
    "        \n",
    "        "
   ]
  },
  {
   "cell_type": "code",
   "execution_count": null,
   "metadata": {},
   "outputs": [],
   "source": [
    "N=int(input())\n",
    "a=list(input().split())\n",
    "for i in a:\n",
    "    print(i)"
   ]
  },
  {
   "cell_type": "code",
   "execution_count": null,
   "metadata": {},
   "outputs": [],
   "source": [
    "A=list(input().split())\n",
    "for i in A:\n",
    "    if i!='0':\n",
    "        print(i)\n",
    "    elif i=='0':\n",
    "        break"
   ]
  },
  {
   "cell_type": "code",
   "execution_count": null,
   "metadata": {},
   "outputs": [],
   "source": [
    "N=int(input())\n",
    "for i in range (0,N-1):\n",
    "    N=N-1\n",
    "    print(N)"
   ]
  },
  {
   "cell_type": "code",
   "execution_count": null,
   "metadata": {},
   "outputs": [],
   "source": [
    "N=int(input())\n",
    "while True:\n",
    "    print(N)\n",
    "    N=N-1\n",
    "    if N==0:\n",
    "        break"
   ]
  },
  {
   "cell_type": "code",
   "execution_count": null,
   "metadata": {},
   "outputs": [],
   "source": [
    "N=int(input())\n",
    "for i in range(0,N):\n",
    "    N-=1\n",
    "    print(N)"
   ]
  },
  {
   "cell_type": "code",
   "execution_count": null,
   "metadata": {},
   "outputs": [],
   "source": [
    "A=input()\n"
   ]
  },
  {
   "cell_type": "code",
   "execution_count": null,
   "metadata": {},
   "outputs": [],
   "source": [
    "#97~122\n",
    "a=input()\n",
    "A=ord(a)\n",
    "for i in range(97,A+1):\n",
    "    print(chr(i), end=' ')"
   ]
  },
  {
   "cell_type": "code",
   "execution_count": null,
   "metadata": {},
   "outputs": [],
   "source": [
    "a=int(input())\n",
    "for i in range(0,a+1):\n",
    "    print(i)"
   ]
  },
  {
   "cell_type": "code",
   "execution_count": null,
   "metadata": {},
   "outputs": [],
   "source": [
    "a=int(input())\n",
    "e=0\n",
    "for i in range(0,a+1):\n",
    "    if i%2==0:\n",
    "        e=e+i\n",
    "print(e)"
   ]
  },
  {
   "cell_type": "code",
   "execution_count": null,
   "metadata": {},
   "outputs": [],
   "source": [
    "while True:\n",
    "    A=input()\n",
    "    if A=='q':\n",
    "        break"
   ]
  },
  {
   "cell_type": "code",
   "execution_count": null,
   "metadata": {},
   "outputs": [],
   "source": [
    "a=list(input().split())\n",
    "for i in a:\n",
    "    if i!='q':\n",
    "        print(i)\n",
    "    elif i=='q':\n",
    "        print(i)\n",
    "        break"
   ]
  },
  {
   "cell_type": "code",
   "execution_count": null,
   "metadata": {},
   "outputs": [],
   "source": [
    "a=int(input())\n",
    "s=0\n",
    "c=0\n",
    "while s<a:\n",
    "    c=c+1\n",
    "    s=s+c\n",
    "print(c)"
   ]
  },
  {
   "cell_type": "code",
   "execution_count": null,
   "metadata": {},
   "outputs": [],
   "source": [
    "a,b=map(int,input().split())\n",
    "for i in range(1,a+1):\n",
    "    for j in range(1,b+1):\n",
    "        print(i,j)"
   ]
  },
  {
   "cell_type": "code",
   "execution_count": null,
   "metadata": {},
   "outputs": [],
   "source": [
    "a=input()\n",
    "A=int(a,16) #입력받은 16진수 a를 10진수로 변환함\n",
    "C=0\n",
    "for i in range(1,0xf+1):\n",
    "    C=i*A\n",
    "    C=format(C,'x') #곱을 저장하는 변수 C를 위에서 10진수로 연산하고\n",
    "    i=format(i,'x') #여기서 다시 16진수로 변환함\n",
    "    print(a,end='') \n",
    "    print('*',end='')\n",
    "    print(i.upper(),end='') #16진수의 알파벳을 대문자로 표현\n",
    "    print('=',end='')\n",
    "    print(C.upper())\n",
    "    "
   ]
  },
  {
   "cell_type": "code",
   "execution_count": null,
   "metadata": {},
   "outputs": [],
   "source": [
    "a=int(input())\n",
    "for i in range(1,a+1):\n",
    "    if i%3==0:\n",
    "        print('X',end=' ')\n",
    "    else:\n",
    "        print(i,end=' ')"
   ]
  },
  {
   "cell_type": "code",
   "execution_count": 14,
   "metadata": {},
   "outputs": [
    {
     "name": "stdout",
     "output_type": "stream",
     "text": [
      "3 3 3\n",
      "0 0 0\n",
      "0 0 1\n",
      "0 0 2\n",
      "0 1 0\n",
      "0 1 1\n",
      "0 1 2\n",
      "0 2 0\n",
      "0 2 1\n",
      "0 2 2\n",
      "1 0 0\n",
      "1 0 1\n",
      "1 0 2\n",
      "1 1 0\n",
      "1 1 1\n",
      "1 1 2\n",
      "1 2 0\n",
      "1 2 1\n",
      "1 2 2\n",
      "2 0 0\n",
      "2 0 1\n",
      "2 0 2\n",
      "2 1 0\n",
      "2 1 1\n",
      "2 1 2\n",
      "2 2 0\n",
      "2 2 1\n",
      "2 2 2\n",
      "27\n"
     ]
    }
   ],
   "source": [
    "\n",
    "a,b,c=map(int,input().split())\n",
    "count=0\n",
    "a=int(a)\n",
    "b=int(b)\n",
    "c=int(c)\n",
    "for i in range(a):\n",
    "    for j in range(b):\n",
    "        for k in range(c):\n",
    "            print(i,j,k)\n",
    "            count+=1\n",
    "print(count)"
   ]
  },
  {
   "cell_type": "code",
   "execution_count": 10,
   "metadata": {},
   "outputs": [
    {
     "ename": "ValueError",
     "evalue": "not enough values to unpack (expected 2, got 0)",
     "output_type": "error",
     "traceback": [
      "\u001b[0;31m---------------------------------------------------------------------------\u001b[0m",
      "\u001b[0;31mValueError\u001b[0m                                Traceback (most recent call last)",
      "\u001b[0;32m<ipython-input-10-31b311f0065d>\u001b[0m in \u001b[0;36m<module>\u001b[0;34m\u001b[0m\n\u001b[1;32m      1\u001b[0m \u001b[0;32mimport\u001b[0m \u001b[0msys\u001b[0m\u001b[0;34m\u001b[0m\u001b[0;34m\u001b[0m\u001b[0m\n\u001b[0;32m----> 2\u001b[0;31m \u001b[0ma\u001b[0m\u001b[0;34m,\u001b[0m\u001b[0mb\u001b[0m\u001b[0;34m=\u001b[0m\u001b[0msys\u001b[0m\u001b[0;34m.\u001b[0m\u001b[0mstdin\u001b[0m\u001b[0;34m.\u001b[0m\u001b[0mreadline\u001b[0m\u001b[0;34m(\u001b[0m\u001b[0;34m)\u001b[0m\u001b[0;34m.\u001b[0m\u001b[0msplit\u001b[0m\u001b[0;34m(\u001b[0m\u001b[0;34m)\u001b[0m\u001b[0;34m\u001b[0m\u001b[0;34m\u001b[0m\u001b[0m\n\u001b[0m",
      "\u001b[0;31mValueError\u001b[0m: not enough values to unpack (expected 2, got 0)"
     ]
    }
   ],
   "source": [
    "import sys\n",
    "a,b=sys.stdin.readline().split()"
   ]
  },
  {
   "cell_type": "code",
   "execution_count": 8,
   "metadata": {},
   "outputs": [
    {
     "data": {
      "text/plain": [
       "''"
      ]
     },
     "execution_count": 8,
     "metadata": {},
     "output_type": "execute_result"
    }
   ],
   "source": []
  },
  {
   "cell_type": "code",
   "execution_count": null,
   "metadata": {},
   "outputs": [],
   "source": []
  }
 ],
 "metadata": {
  "kernelspec": {
   "display_name": "Python 3",
   "language": "python",
   "name": "python3"
  },
  "language_info": {
   "codemirror_mode": {
    "name": "ipython",
    "version": 3
   },
   "file_extension": ".py",
   "mimetype": "text/x-python",
   "name": "python",
   "nbconvert_exporter": "python",
   "pygments_lexer": "ipython3",
   "version": "3.7.4"
  }
 },
 "nbformat": 4,
 "nbformat_minor": 4
}
