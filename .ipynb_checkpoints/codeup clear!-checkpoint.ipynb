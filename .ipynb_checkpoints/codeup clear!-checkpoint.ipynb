{
 "cells": [
  {
   "cell_type": "code",
   "execution_count": null,
   "metadata": {},
   "outputs": [],
   "source": [
    "F=[]\n",
    "A,B=map(int,input().split()) #a*b로 바둑판 사이즈 결정 변수\n",
    "for j in range(A):\n",
    "    F.append([0]*B)\n",
    "C=int(input()) #c로 막대의 개수\n",
    "for i in range(C): #C의 크기만큼 반복해서 입력받도록 설정\n",
    "    a,b,c,d=map(int,input().split())\n",
    "    if b==0:\n",
    "        for k in range(d-1,a+d-1):\n",
    "            if F[c-1][k]==0:\n",
    "                F[c-1][k]=1\n",
    "    if b==1:\n",
    "        for l in range(c-1,a+c-1):\n",
    "            if F[l][d-1]==0:\n",
    "                F[l][d-1]=1\n",
    "for m in range(A):\n",
    "    for n in range(B):\n",
    "        print(F[m][n],end=' ')\n",
    "    print('\\n',end='')"
   ]
  },
  {
   "cell_type": "code",
   "execution_count": 51,
   "metadata": {},
   "outputs": [
    {
     "name": "stdout",
     "output_type": "stream",
     "text": [
      "1 1 1 1 1 1 1 1 1 1\n",
      "1 0 0 1 0 0 0 0 0 1\n",
      "1 0 0 1 1 1 0 0 0 1\n",
      "1 0 0 0 0 0 0 1 0 1\n",
      "1 0 0 0 0 0 0 1 0 1\n",
      "1 0 0 0 0 1 0 0 0 1\n",
      "1 0 0 0 0 1 2 0 0 1\n",
      "1 0 0 0 0 1 0 0 0 1\n",
      "1 0 0 0 0 0 0 0 0 1\n",
      "1 1 1 1 1 1 1 1 1 1\n",
      "1 1 1 1 1 1 1 1 1 1 \n",
      "1 9 9 1 0 0 0 0 0 1 \n",
      "1 0 9 1 1 1 0 0 0 1 \n",
      "1 0 9 9 9 9 9 1 0 1 \n",
      "1 0 0 0 0 0 9 1 0 1 \n",
      "1 0 0 0 0 1 9 9 9 1 \n",
      "1 0 0 0 0 1 2 0 9 1 \n",
      "1 0 0 0 0 1 0 0 9 1 \n",
      "1 0 0 0 0 0 0 0 9 1 \n",
      "1 1 1 1 1 1 1 1 1 1 \n"
     ]
    }
   ],
   "source": [
    "H=[]\n",
    "a=b=1\n",
    "count=0\n",
    "for i in range(10):\n",
    "    H.append(list(map(int,input().split())))\n",
    "\n",
    "while True:\n",
    "    if H[a][b]==2:\n",
    "        H[a][b]=9\n",
    "        break\n",
    "    elif count>20:\n",
    "        break\n",
    "    elif a==b==9:\n",
    "        H[a][b]=9\n",
    "        break\n",
    "    elif H[a][b+1]==0 or H[a][b+1]==2:\n",
    "        H[a][b]=9\n",
    "        b=b+1\n",
    "    elif (H[a][b+1]==1 or H[a][b+1]==2)and H[a+1][b]!=1:\n",
    "        H[a][b]=9\n",
    "        a=a+1\n",
    "    elif a>9 or b >9:\n",
    "        break\n",
    "    count=count+1\n",
    "\n",
    "if H[a][b]==0:\n",
    "    H[a][b]=9\n",
    "for j in range(10):\n",
    "    for k in range(10):\n",
    "        print(H[j][k],end=' ')\n",
    "    print('\\n' ,end='')"
   ]
  },
  {
   "cell_type": "code",
   "execution_count": 49,
   "metadata": {},
   "outputs": [
    {
     "data": {
      "text/plain": [
       "8"
      ]
     },
     "execution_count": 49,
     "metadata": {},
     "output_type": "execute_result"
    }
   ],
   "source": [
    "a"
   ]
  },
  {
   "cell_type": "code",
   "execution_count": 50,
   "metadata": {},
   "outputs": [
    {
     "data": {
      "text/plain": [
       "8"
      ]
     },
     "execution_count": 50,
     "metadata": {},
     "output_type": "execute_result"
    }
   ],
   "source": [
    "b"
   ]
  },
  {
   "cell_type": "code",
   "execution_count": null,
   "metadata": {},
   "outputs": [],
   "source": []
  },
  {
   "cell_type": "code",
   "execution_count": 38,
   "metadata": {},
   "outputs": [
    {
     "data": {
      "text/plain": [
       "[[1, 1, 1, 1, 1, 1, 1, 1, 1, 1],\n",
       " [1, 9, 9, 1, 0, 0, 0, 0, 0, 1],\n",
       " [1, 0, 9, 1, 1, 1, 0, 0, 0, 1],\n",
       " [1, 0, 9, 9, 9, 9, 9, 1, 0, 1],\n",
       " [1, 0, 0, 0, 0, 0, 9, 1, 0, 1],\n",
       " [1, 0, 0, 0, 0, 1, 9, 9, 9, 1],\n",
       " [1, 0, 0, 0, 0, 1, 2, 0, 9, 1],\n",
       " [1, 0, 0, 0, 0, 1, 0, 0, 9, 1],\n",
       " [1, 0, 0, 0, 0, 0, 0, 0, 0, 1],\n",
       " [1, 1, 1, 1, 1, 1, 1, 1, 1, 1]]"
      ]
     },
     "execution_count": 38,
     "metadata": {},
     "output_type": "execute_result"
    }
   ],
   "source": [
    "1 1 1 1 1 1 1 1 1 1\n",
    "1 0 0 1 0 0 0 0 0 1\n",
    "1 0 0 1 1 1 0 0 0 1\n",
    "1 0 0 0 0 0 0 1 0 1\n",
    "1 0 0 0 0 0 0 1 0 1\n",
    "1 0 0 0 0 1 0 0 0 1\n",
    "1 0 0 0 0 1 2 0 0 1\n",
    "1 0 0 0 0 1 0 0 0 1\n",
    "1 0 0 0 0 0 0 0 0 1\n",
    "1 1 1 1 1 1 1 1 1 1\n"
   ]
  },
  {
   "cell_type": "code",
   "execution_count": null,
   "metadata": {},
   "outputs": [],
   "source": []
  }
 ],
 "metadata": {
  "kernelspec": {
   "display_name": "Python 3",
   "language": "python",
   "name": "python3"
  },
  "language_info": {
   "codemirror_mode": {
    "name": "ipython",
    "version": 3
   },
   "file_extension": ".py",
   "mimetype": "text/x-python",
   "name": "python",
   "nbconvert_exporter": "python",
   "pygments_lexer": "ipython3",
   "version": "3.7.4"
  }
 },
 "nbformat": 4,
 "nbformat_minor": 4
}
