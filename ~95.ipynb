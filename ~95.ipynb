{
 "cells": [
  {
   "cell_type": "code",
   "execution_count": null,
   "metadata": {},
   "outputs": [],
   "source": [
    "a,b,c=map(int,sys.stdin.readline().split())\n",
    "a=int(a)\n",
    "b=int(b)\n",
    "c=int(c)\n",
    "C=0\n",
    "for i in range(a):\n",
    "    for j in range(b):\n",
    "        for k in range(c):\n",
    "            print(i,j,k)\n",
    "            C+=1\n",
    "print(C)"
   ]
  },
  {
   "cell_type": "code",
   "execution_count": null,
   "metadata": {},
   "outputs": [],
   "source": [
    "import math\n",
    "h,b,c,s=map(int,input().split())\n",
    "S=(h*b*c*s)/8/1024/1\n",
    "S=math.floor(S)\n",
    "print(S/10,'MB')"
   ]
  },
  {
   "cell_type": "code",
   "execution_count": null,
   "metadata": {},
   "outputs": [],
   "source": [
    "math.floor(S)"
   ]
  },
  {
   "cell_type": "code",
   "execution_count": null,
   "metadata": {},
   "outputs": [],
   "source": [
    "print(S)"
   ]
  },
  {
   "cell_type": "code",
   "execution_count": null,
   "metadata": {},
   "outputs": [],
   "source": [
    "h,b,c,s=map(int,input().split())\n",
    "print(round((h*b*c*s)/8/1024/1024,1),'MB')"
   ]
  },
  {
   "cell_type": "code",
   "execution_count": null,
   "metadata": {},
   "outputs": [],
   "source": [
    "w,h,b=map(int,input().split())\n",
    "print(format('%.2f' %(w*h*b/1024/1024/8)),'MB')"
   ]
  },
  {
   "cell_type": "code",
   "execution_count": null,
   "metadata": {},
   "outputs": [],
   "source": [
    "print(format('%.2f' %(w*h*b/1024/1024/8)),'MB')"
   ]
  },
  {
   "cell_type": "code",
   "execution_count": null,
   "metadata": {},
   "outputs": [],
   "source": [
    "N=int(input())\n",
    "i=0\n",
    "S=0\n",
    "while S<N:\n",
    "    i+=1\n",
    "    S+=i\n",
    "print(S)"
   ]
  },
  {
   "cell_type": "code",
   "execution_count": null,
   "metadata": {},
   "outputs": [],
   "source": [
    "N=int(input())\n",
    "for i in range(N+1):\n",
    "    if i%3==0:\n",
    "        continue\n",
    "    else:\n",
    "        print(i,end=' ')"
   ]
  },
  {
   "cell_type": "code",
   "execution_count": null,
   "metadata": {},
   "outputs": [],
   "source": [
    "a,b,c=map(int,input().split())\n",
    "print(a+(b*(c-1)))"
   ]
  },
  {
   "cell_type": "code",
   "execution_count": null,
   "metadata": {},
   "outputs": [],
   "source": [
    "a,b,c=map(int,input().split())\n",
    "print(a*(b**(c-1)))"
   ]
  },
  {
   "cell_type": "code",
   "execution_count": null,
   "metadata": {},
   "outputs": [],
   "source": [
    "a,b,c,d=map(int,input().split())\n",
    "C=0\n",
    "T=0\n",
    "while True:\n",
    "    T=a*b+c\n",
    "    C+=1\n",
    "    a=T\n",
    "    print(abs(T))\n",
    "    if C==d-1:\n",
    "        break\n",
    "print(T)"
   ]
  },
  {
   "cell_type": "code",
   "execution_count": null,
   "metadata": {},
   "outputs": [],
   "source": [
    "a,b,c,d=map(int,input().split())\n",
    "for i in range(d-1):\n",
    "    a=a*b+c\n",
    "print(a)"
   ]
  },
  {
   "cell_type": "code",
   "execution_count": null,
   "metadata": {},
   "outputs": [],
   "source": [
    "a,b,c=map(int,input().split())\n",
    "j=a*b*c\n",
    "F=0\n",
    "while j>0:\n",
    "    if (j%a==0 and j%b==0 and j%c==0) and j!=0:\n",
    "        F=j\n",
    "    j=j-1\n",
    "print(F)"
   ]
  },
  {
   "cell_type": "code",
   "execution_count": null,
   "metadata": {},
   "outputs": [],
   "source": [
    "int(max(A))"
   ]
  },
  {
   "cell_type": "code",
   "execution_count": null,
   "metadata": {},
   "outputs": [],
   "source": [
    "3*7*9"
   ]
  },
  {
   "cell_type": "code",
   "execution_count": null,
   "metadata": {},
   "outputs": [],
   "source": [
    "N=int(input())\n",
    "M=map(int,input().split())\n",
    "for i in range(N):\n",
    "    print(i,end='')\n",
    "    "
   ]
  },
  {
   "cell_type": "code",
   "execution_count": null,
   "metadata": {},
   "outputs": [],
   "source": [
    "N=int(input())\n",
    "A=list(input().split())\n",
    "for i in range(1,24):\n",
    "    print(A.count(str(i)),end=' ')"
   ]
  },
  {
   "cell_type": "code",
   "execution_count": null,
   "metadata": {},
   "outputs": [],
   "source": [
    "N=int(input())\n",
    "A=list(input().split())\n",
    "for i in range(N):\n",
    "    print(A.pop(),end=' ')"
   ]
  },
  {
   "cell_type": "code",
   "execution_count": 1,
   "metadata": {},
   "outputs": [
    {
     "ename": "SyntaxError",
     "evalue": "unexpected EOF while parsing (<ipython-input-1-e408426bcfae>, line 2)",
     "output_type": "error",
     "traceback": [
      "\u001b[0;36m  File \u001b[0;32m\"<ipython-input-1-e408426bcfae>\"\u001b[0;36m, line \u001b[0;32m2\u001b[0m\n\u001b[0;31m    A=list(map(int,input().split())\u001b[0m\n\u001b[0m                                   ^\u001b[0m\n\u001b[0;31mSyntaxError\u001b[0m\u001b[0;31m:\u001b[0m unexpected EOF while parsing\n"
     ]
    }
   ],
   "source": [
    "N=int(input())\n",
    "A=list(map(int,input().split())\n"
   ]
  },
  {
   "cell_type": "code",
   "execution_count": 4,
   "metadata": {},
   "outputs": [
    {
     "name": "stdout",
     "output_type": "stream",
     "text": [
      "10\n",
      "10 4 2 3 6 6 7 9 8 5\n",
      "2\n"
     ]
    }
   ],
   "source": [
    "N=int(input())\n",
    "M=list(map(int,input().split()))\n",
    "print(min(M))"
   ]
  },
  {
   "cell_type": "code",
   "execution_count": 3,
   "metadata": {},
   "outputs": [
    {
     "data": {
      "text/plain": [
       "[10, 4, 2, 3, 6, 6, 7, 9, 8, 5]"
      ]
     },
     "execution_count": 3,
     "metadata": {},
     "output_type": "execute_result"
    }
   ],
   "source": [
    "M"
   ]
  },
  {
   "cell_type": "code",
   "execution_count": null,
   "metadata": {},
   "outputs": [],
   "source": []
  }
 ],
 "metadata": {
  "kernelspec": {
   "display_name": "Python 3",
   "language": "python",
   "name": "python3"
  },
  "language_info": {
   "codemirror_mode": {
    "name": "ipython",
    "version": 3
   },
   "file_extension": ".py",
   "mimetype": "text/x-python",
   "name": "python",
   "nbconvert_exporter": "python",
   "pygments_lexer": "ipython3",
   "version": "3.7.4"
  }
 },
 "nbformat": 4,
 "nbformat_minor": 4
}
